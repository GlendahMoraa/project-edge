{
  "nbformat": 4,
  "nbformat_minor": 0,
  "metadata": {
    "colab": {
      "name": "Python Data Cleaning and Analysis - Kenyan Households Roofing Materials",
      "provenance": [],
      "collapsed_sections": [
        "HToJZ2gBPawZ",
        "IICLGbvBRYHq",
        "RAVzK5O6IR8v",
        "R9S2o1WXIhq1",
        "LgLPmaP60MCY",
        "ogvHnWWk0URF",
        "4_l-hjNT0ljY",
        "Wg_HInjk0rJG",
        "po-2IDPd0vdL",
        "dr1eyGZzt83Z",
        "NicC8P9LMjvO"
      ],
      "include_colab_link": true
    },
    "kernelspec": {
      "name": "python3",
      "display_name": "Python 3"
    }
  },
  "cells": [
    {
      "cell_type": "markdown",
      "metadata": {
        "id": "view-in-github",
        "colab_type": "text"
      },
      "source": [
        "<a href=\"https://colab.research.google.com/github/glendah-moraa/project-edge/blob/main/Python_Data_Cleaning_and_Analysis_Kenyan_Households_Roofing_Materials.ipynb\" target=\"_parent\"><img src=\"https://colab.research.google.com/assets/colab-badge.svg\" alt=\"Open In Colab\"/></a>"
      ]
    },
    {
      "cell_type": "markdown",
      "metadata": {
        "id": "mh5V-mRF29qO"
      },
      "source": [
        "<font color=\"green\">*To start working on this notebook, or any other notebook that we will use in the Moringa Data Science Course, we will need to save our own copy of it. We can do this by clicking File > Save a Copy in Drive. We will then be able to make edits to our own copy of this notebook.*</font>"
      ]
    },
    {
      "cell_type": "markdown",
      "metadata": {
        "id": "m0tgCkvzPLEa"
      },
      "source": [
        "# Python Data Cleaning and Analysis - Kenyan Households Roofing Materials"
      ]
    },
    {
      "cell_type": "markdown",
      "metadata": {
        "id": "VSnOCZ5-IPCi"
      },
      "source": [
        "## 1.0 Importing our Libraries"
      ]
    },
    {
      "cell_type": "code",
      "metadata": {
        "id": "3r-KDLvrO44a"
      },
      "source": [
        "# Importing the libraries we will need \n",
        "\n",
        "# Importing the pandas library\n",
        "# \n",
        "import pandas as pd\n",
        "\n",
        "# Importing the numpy library\n",
        "#\n",
        "import numpy as np"
      ],
      "execution_count": null,
      "outputs": []
    },
    {
      "cell_type": "markdown",
      "metadata": {
        "id": "HToJZ2gBPawZ"
      },
      "source": [
        "## 1.1 Reading the Dataset from our CSV file\n",
        "\n"
      ]
    },
    {
      "cell_type": "markdown",
      "metadata": {
        "id": "LBUr8VUXQX-K"
      },
      "source": [
        "\n",
        "\n",
        "The dataset we will use contains Kenyan households by the main type of Roofing Material for the main dwelling unit for 2009.\n",
        "\n",
        "\n",
        "\n",
        "*   Dataset link for download or access: [Link](https://drive.google.com/a/moringaschool.com/file/d/1Mij0eAI8CHzanECX-n4Cv20N0A_whueJ/view?usp=sharing)\n",
        "\n",
        "\n",
        "\n"
      ]
    },
    {
      "cell_type": "code",
      "metadata": {
        "id": "1acwmZanRNHs",
        "colab": {
          "base_uri": "https://localhost:8080/",
          "height": 400
        },
        "outputId": "7a5ca90c-1792-4ce7-ae79-5310ed37e721"
      },
      "source": [
        "# Let's read the data from the CSV file and create the dataframe to be used\n",
        "# \n",
        "df = pd.read_csv('/content/2009_Census_Volume_II_Table_5_Households_by_main_type_of_Roofing_Material_for_the_main_dwelling_unit_by_district.csv')\n",
        "df.head()"
      ],
      "execution_count": null,
      "outputs": [
        {
          "output_type": "execute_result",
          "data": {
            "text/html": [
              "<div>\n",
              "<style scoped>\n",
              "    .dataframe tbody tr th:only-of-type {\n",
              "        vertical-align: middle;\n",
              "    }\n",
              "\n",
              "    .dataframe tbody tr th {\n",
              "        vertical-align: top;\n",
              "    }\n",
              "\n",
              "    .dataframe thead th {\n",
              "        text-align: right;\n",
              "    }\n",
              "</style>\n",
              "<table border=\"1\" class=\"dataframe\">\n",
              "  <thead>\n",
              "    <tr style=\"text-align: right;\">\n",
              "      <th></th>\n",
              "      <th>District</th>\n",
              "      <th>rural/urban</th>\n",
              "      <th>%_of_Households_Corrugated_Iron_Sheets</th>\n",
              "      <th>%_of_Households_Tiles</th>\n",
              "      <th>%_of_Households_Concrete</th>\n",
              "      <th>Asbestos_%_of_Households_Sheets</th>\n",
              "      <th>%_of_Households_Grass</th>\n",
              "      <th>%_of_Households_Makuti</th>\n",
              "      <th>%_of_Households_Tin</th>\n",
              "      <th>%_of_Households_Mud/Dung</th>\n",
              "      <th>%_of_Households_Other</th>\n",
              "      <th>Households</th>\n",
              "      <th>No_Corrugated_Iron_Sheets</th>\n",
              "      <th>No_Tiles</th>\n",
              "      <th>No_Concrete</th>\n",
              "      <th>No_Asbestos_Sheets</th>\n",
              "      <th>No_Grass</th>\n",
              "      <th>No_Makuti</th>\n",
              "      <th>No_Tin</th>\n",
              "      <th>No_Mud/Dung</th>\n",
              "      <th>No_Other</th>\n",
              "      <th>County</th>\n",
              "      <th>MTEF</th>\n",
              "      <th>Location_1</th>\n",
              "      <th>Province</th>\n",
              "      <th>OBJECTID</th>\n",
              "    </tr>\n",
              "  </thead>\n",
              "  <tbody>\n",
              "    <tr>\n",
              "      <th>0</th>\n",
              "      <td>NYANDARUA NORTH</td>\n",
              "      <td>Urban</td>\n",
              "      <td>91.08%</td>\n",
              "      <td>0.62%</td>\n",
              "      <td>0.16%</td>\n",
              "      <td>1.46%</td>\n",
              "      <td>0.64%</td>\n",
              "      <td>0.03%</td>\n",
              "      <td>0.07%</td>\n",
              "      <td>0%</td>\n",
              "      <td>5.94%</td>\n",
              "      <td>23229</td>\n",
              "      <td>21156</td>\n",
              "      <td>144</td>\n",
              "      <td>38</td>\n",
              "      <td>338</td>\n",
              "      <td>148</td>\n",
              "      <td>7</td>\n",
              "      <td>17</td>\n",
              "      <td>1</td>\n",
              "      <td>1380</td>\n",
              "      <td>Nyandarua</td>\n",
              "      <td>Physical Infrastructure, Housing</td>\n",
              "      <td>NaN</td>\n",
              "      <td>CENTRAL</td>\n",
              "      <td>0</td>\n",
              "    </tr>\n",
              "    <tr>\n",
              "      <th>1</th>\n",
              "      <td>NYANDARUA SOUTH</td>\n",
              "      <td>Urban</td>\n",
              "      <td>95.38%</td>\n",
              "      <td>0.47%</td>\n",
              "      <td>2.6%</td>\n",
              "      <td>1.46%</td>\n",
              "      <td>0.06%</td>\n",
              "      <td>0%</td>\n",
              "      <td>0%</td>\n",
              "      <td>0.02%</td>\n",
              "      <td>0.02%</td>\n",
              "      <td>5345</td>\n",
              "      <td>5098</td>\n",
              "      <td>25</td>\n",
              "      <td>139</td>\n",
              "      <td>78</td>\n",
              "      <td>3</td>\n",
              "      <td>0</td>\n",
              "      <td>0</td>\n",
              "      <td>1</td>\n",
              "      <td>1</td>\n",
              "      <td>Nyandarua</td>\n",
              "      <td>Physical Infrastructure, Housing</td>\n",
              "      <td>NaN</td>\n",
              "      <td>CENTRAL</td>\n",
              "      <td>1</td>\n",
              "    </tr>\n",
              "    <tr>\n",
              "      <th>2</th>\n",
              "      <td>NYERI NORTH</td>\n",
              "      <td>Urban</td>\n",
              "      <td>90.28%</td>\n",
              "      <td>1.13%</td>\n",
              "      <td>5.21%</td>\n",
              "      <td>2.58%</td>\n",
              "      <td>0.49%</td>\n",
              "      <td>0.08%</td>\n",
              "      <td>0.2%</td>\n",
              "      <td>0.01%</td>\n",
              "      <td>0.01%</td>\n",
              "      <td>14208</td>\n",
              "      <td>12827</td>\n",
              "      <td>161</td>\n",
              "      <td>740</td>\n",
              "      <td>367</td>\n",
              "      <td>69</td>\n",
              "      <td>11</td>\n",
              "      <td>29</td>\n",
              "      <td>2</td>\n",
              "      <td>2</td>\n",
              "      <td>Nyeri</td>\n",
              "      <td>Physical Infrastructure, Housing</td>\n",
              "      <td>NaN</td>\n",
              "      <td>CENTRAL</td>\n",
              "      <td>2</td>\n",
              "    </tr>\n",
              "    <tr>\n",
              "      <th>3</th>\n",
              "      <td>NYERI SOUTH</td>\n",
              "      <td>Urban</td>\n",
              "      <td>90.89%</td>\n",
              "      <td>2.3%</td>\n",
              "      <td>3.32%</td>\n",
              "      <td>3.04%</td>\n",
              "      <td>0.09%</td>\n",
              "      <td>0.05%</td>\n",
              "      <td>0.14%</td>\n",
              "      <td>0.01%</td>\n",
              "      <td>0.17%</td>\n",
              "      <td>39927</td>\n",
              "      <td>36290</td>\n",
              "      <td>917</td>\n",
              "      <td>1325</td>\n",
              "      <td>1213</td>\n",
              "      <td>36</td>\n",
              "      <td>20</td>\n",
              "      <td>57</td>\n",
              "      <td>2</td>\n",
              "      <td>67</td>\n",
              "      <td>Nyeri</td>\n",
              "      <td>Physical Infrastructure, Housing</td>\n",
              "      <td>NaN</td>\n",
              "      <td>CENTRAL</td>\n",
              "      <td>3</td>\n",
              "    </tr>\n",
              "    <tr>\n",
              "      <th>4</th>\n",
              "      <td>KIRINYAGA</td>\n",
              "      <td>Urban</td>\n",
              "      <td>91.41%</td>\n",
              "      <td>0.87%</td>\n",
              "      <td>3.97%</td>\n",
              "      <td>3.5%</td>\n",
              "      <td>0.04%</td>\n",
              "      <td>0.01%</td>\n",
              "      <td>0.03%</td>\n",
              "      <td>0.01%</td>\n",
              "      <td>0.15%</td>\n",
              "      <td>27461</td>\n",
              "      <td>25103</td>\n",
              "      <td>239</td>\n",
              "      <td>1090</td>\n",
              "      <td>960</td>\n",
              "      <td>11</td>\n",
              "      <td>3</td>\n",
              "      <td>9</td>\n",
              "      <td>4</td>\n",
              "      <td>42</td>\n",
              "      <td>Kirinyaga</td>\n",
              "      <td>Physical Infrastructure, Housing</td>\n",
              "      <td>NaN</td>\n",
              "      <td>CENTRAL</td>\n",
              "      <td>4</td>\n",
              "    </tr>\n",
              "  </tbody>\n",
              "</table>\n",
              "</div>"
            ],
            "text/plain": [
              "          District rural/urban  ... Province OBJECTID\n",
              "0  NYANDARUA NORTH       Urban  ...  CENTRAL        0\n",
              "1  NYANDARUA SOUTH       Urban  ...  CENTRAL        1\n",
              "2      NYERI NORTH       Urban  ...  CENTRAL        2\n",
              "3      NYERI SOUTH       Urban  ...  CENTRAL        3\n",
              "4        KIRINYAGA       Urban  ...  CENTRAL        4\n",
              "\n",
              "[5 rows x 26 columns]"
            ]
          },
          "metadata": {
            "tags": []
          },
          "execution_count": 17
        }
      ]
    },
    {
      "cell_type": "markdown",
      "metadata": {
        "id": "IICLGbvBRYHq"
      },
      "source": [
        "## 1.2 Previewing our Dataset\n"
      ]
    },
    {
      "cell_type": "code",
      "metadata": {
        "id": "WrwHg-hzR5BY",
        "colab": {
          "base_uri": "https://localhost:8080/",
          "height": 136
        },
        "outputId": "f10ad4d3-1cc2-44ae-bba9-cf26885e7138"
      },
      "source": [
        "# Let's preview the first 10 rows of our data\n",
        "# \n",
        "df.head(1)"
      ],
      "execution_count": null,
      "outputs": [
        {
          "output_type": "execute_result",
          "data": {
            "text/html": [
              "<div>\n",
              "<style scoped>\n",
              "    .dataframe tbody tr th:only-of-type {\n",
              "        vertical-align: middle;\n",
              "    }\n",
              "\n",
              "    .dataframe tbody tr th {\n",
              "        vertical-align: top;\n",
              "    }\n",
              "\n",
              "    .dataframe thead th {\n",
              "        text-align: right;\n",
              "    }\n",
              "</style>\n",
              "<table border=\"1\" class=\"dataframe\">\n",
              "  <thead>\n",
              "    <tr style=\"text-align: right;\">\n",
              "      <th></th>\n",
              "      <th>District</th>\n",
              "      <th>rural/urban</th>\n",
              "      <th>%_of_Households_Corrugated_Iron_Sheets</th>\n",
              "      <th>%_of_Households_Tiles</th>\n",
              "      <th>%_of_Households_Concrete</th>\n",
              "      <th>Asbestos_%_of_Households_Sheets</th>\n",
              "      <th>%_of_Households_Grass</th>\n",
              "      <th>%_of_Households_Makuti</th>\n",
              "      <th>%_of_Households_Tin</th>\n",
              "      <th>%_of_Households_Mud/Dung</th>\n",
              "      <th>%_of_Households_Other</th>\n",
              "      <th>Households</th>\n",
              "      <th>No_Corrugated_Iron_Sheets</th>\n",
              "      <th>No_Tiles</th>\n",
              "      <th>No_Concrete</th>\n",
              "      <th>No_Asbestos_Sheets</th>\n",
              "      <th>No_Grass</th>\n",
              "      <th>No_Makuti</th>\n",
              "      <th>No_Tin</th>\n",
              "      <th>No_Mud/Dung</th>\n",
              "      <th>No_Other</th>\n",
              "      <th>County</th>\n",
              "      <th>MTEF</th>\n",
              "      <th>Location_1</th>\n",
              "      <th>Province</th>\n",
              "      <th>OBJECTID</th>\n",
              "    </tr>\n",
              "  </thead>\n",
              "  <tbody>\n",
              "    <tr>\n",
              "      <th>0</th>\n",
              "      <td>NYANDARUA NORTH</td>\n",
              "      <td>Urban</td>\n",
              "      <td>91.08%</td>\n",
              "      <td>0.62%</td>\n",
              "      <td>0.16%</td>\n",
              "      <td>1.46%</td>\n",
              "      <td>0.64%</td>\n",
              "      <td>0.03%</td>\n",
              "      <td>0.07%</td>\n",
              "      <td>0%</td>\n",
              "      <td>5.94%</td>\n",
              "      <td>23229</td>\n",
              "      <td>21156</td>\n",
              "      <td>144</td>\n",
              "      <td>38</td>\n",
              "      <td>338</td>\n",
              "      <td>148</td>\n",
              "      <td>7</td>\n",
              "      <td>17</td>\n",
              "      <td>1</td>\n",
              "      <td>1380</td>\n",
              "      <td>Nyandarua</td>\n",
              "      <td>Physical Infrastructure, Housing</td>\n",
              "      <td>NaN</td>\n",
              "      <td>CENTRAL</td>\n",
              "      <td>0</td>\n",
              "    </tr>\n",
              "  </tbody>\n",
              "</table>\n",
              "</div>"
            ],
            "text/plain": [
              "          District rural/urban  ... Province OBJECTID\n",
              "0  NYANDARUA NORTH       Urban  ...  CENTRAL        0\n",
              "\n",
              "[1 rows x 26 columns]"
            ]
          },
          "metadata": {
            "tags": []
          },
          "execution_count": 18
        }
      ]
    },
    {
      "cell_type": "markdown",
      "metadata": {
        "id": "RAVzK5O6IR8v"
      },
      "source": [
        "## 1.3 Accessing Information about our Dataset"
      ]
    },
    {
      "cell_type": "markdown",
      "metadata": {
        "id": "5W7cyaIpJdaC"
      },
      "source": [
        "We might need to convert columns to the respective datatypes ie. if there are payment columns we could convert them from string to float. This observation can be made by accessing information about the dataset."
      ]
    },
    {
      "cell_type": "code",
      "metadata": {
        "id": "0d2kfemDIYWI",
        "colab": {
          "base_uri": "https://localhost:8080/"
        },
        "outputId": "a97da4fa-8e2f-413d-b18e-379146220e0e"
      },
      "source": [
        "# Getting to know more about the dataset by accessing its information\n",
        "#\n",
        "df.info()"
      ],
      "execution_count": null,
      "outputs": [
        {
          "output_type": "stream",
          "text": [
            "<class 'pandas.core.frame.DataFrame'>\n",
            "RangeIndex: 315 entries, 0 to 314\n",
            "Data columns (total 26 columns):\n",
            " #   Column                                  Non-Null Count  Dtype  \n",
            "---  ------                                  --------------  -----  \n",
            " 0   District                                315 non-null    object \n",
            " 1   rural/urban                             315 non-null    object \n",
            " 2   %_of_Households_Corrugated_Iron_Sheets  290 non-null    object \n",
            " 3   %_of_Households_Tiles                   290 non-null    object \n",
            " 4   %_of_Households_Concrete                290 non-null    object \n",
            " 5   Asbestos_%_of_Households_Sheets         290 non-null    object \n",
            " 6   %_of_Households_Grass                   290 non-null    object \n",
            " 7   %_of_Households_Makuti                  290 non-null    object \n",
            " 8   %_of_Households_Tin                     290 non-null    object \n",
            " 9   %_of_Households_Mud/Dung                290 non-null    object \n",
            " 10  %_of_Households_Other                   290 non-null    object \n",
            " 11  Households                              315 non-null    int64  \n",
            " 12  No_Corrugated_Iron_Sheets               315 non-null    int64  \n",
            " 13  No_Tiles                                315 non-null    int64  \n",
            " 14  No_Concrete                             315 non-null    int64  \n",
            " 15  No_Asbestos_Sheets                      315 non-null    int64  \n",
            " 16  No_Grass                                315 non-null    int64  \n",
            " 17  No_Makuti                               315 non-null    int64  \n",
            " 18  No_Tin                                  315 non-null    int64  \n",
            " 19  No_Mud/Dung                             315 non-null    int64  \n",
            " 20  No_Other                                315 non-null    int64  \n",
            " 21  County                                  315 non-null    object \n",
            " 22  MTEF                                    315 non-null    object \n",
            " 23  Location_1                              0 non-null      float64\n",
            " 24  Province                                315 non-null    object \n",
            " 25  OBJECTID                                315 non-null    int64  \n",
            "dtypes: float64(1), int64(11), object(14)\n",
            "memory usage: 64.1+ KB\n"
          ],
          "name": "stdout"
        }
      ]
    },
    {
      "cell_type": "markdown",
      "metadata": {
        "id": "R9S2o1WXIhq1"
      },
      "source": [
        "## 1.4 Cleaning our Dataset"
      ]
    },
    {
      "cell_type": "markdown",
      "metadata": {
        "id": "AsBK7q0M0B5p"
      },
      "source": [
        "Let us perform data cleaning procedures below providing a documentation for our actions. We will perform as many data cleaning procedures as we think suitable for the various dimensions of data."
      ]
    },
    {
      "cell_type": "markdown",
      "metadata": {
        "id": "LgLPmaP60MCY"
      },
      "source": [
        "### 1.41) Validity: <font color=\"green\">Challenges</font>"
      ]
    },
    {
      "cell_type": "code",
      "metadata": {
        "id": "Xu8_fwqE0S_1"
      },
      "source": [
        "# Procedure 1:\n",
        "# Data Cleaning Action:\n",
        "# Explanation:\n",
        "\n",
        "df.drop(columns=['Location_1', 'OBJECTID', '%_of_Households_Corrugated_Iron_Sheets', '%_of_Households_Tiles', '%_of_Households_Concrete', 'Asbestos_%_of_Households_Sheets', '%_of_Households_Grass', '%_of_Households_Makuti', '%_of_Households_Tin', '%_of_Households_Mud/Dung', '%_of_Households_Other'], inplace=True)"
      ],
      "execution_count": null,
      "outputs": []
    },
    {
      "cell_type": "code",
      "metadata": {
        "id": "8n6lZYUT0X8O",
        "colab": {
          "base_uri": "https://localhost:8080/",
          "height": 424
        },
        "outputId": "8b692029-62af-4ccd-d03f-2a7246c8f07b"
      },
      "source": [
        "# Procedure 2:\n",
        "# Data Cleaning Action:\n",
        "# Explanation:\n",
        "#\n"
      ],
      "execution_count": null,
      "outputs": [
        {
          "output_type": "execute_result",
          "data": {
            "text/html": [
              "<div>\n",
              "<style scoped>\n",
              "    .dataframe tbody tr th:only-of-type {\n",
              "        vertical-align: middle;\n",
              "    }\n",
              "\n",
              "    .dataframe tbody tr th {\n",
              "        vertical-align: top;\n",
              "    }\n",
              "\n",
              "    .dataframe thead th {\n",
              "        text-align: right;\n",
              "    }\n",
              "</style>\n",
              "<table border=\"1\" class=\"dataframe\">\n",
              "  <thead>\n",
              "    <tr style=\"text-align: right;\">\n",
              "      <th></th>\n",
              "      <th>District</th>\n",
              "      <th>rural/urban</th>\n",
              "      <th>Households</th>\n",
              "      <th>No_Corrugated_Iron_Sheets</th>\n",
              "      <th>No_Tiles</th>\n",
              "      <th>No_Concrete</th>\n",
              "      <th>No_Asbestos_Sheets</th>\n",
              "      <th>No_Grass</th>\n",
              "      <th>No_Makuti</th>\n",
              "      <th>No_Tin</th>\n",
              "      <th>No_Mud/Dung</th>\n",
              "      <th>No_Other</th>\n",
              "      <th>County</th>\n",
              "      <th>MTEF</th>\n",
              "      <th>Province</th>\n",
              "    </tr>\n",
              "  </thead>\n",
              "  <tbody>\n",
              "    <tr>\n",
              "      <th>0</th>\n",
              "      <td>NYANDARUA NORTH</td>\n",
              "      <td>Urban</td>\n",
              "      <td>23229</td>\n",
              "      <td>21156</td>\n",
              "      <td>144</td>\n",
              "      <td>38</td>\n",
              "      <td>338</td>\n",
              "      <td>148</td>\n",
              "      <td>7</td>\n",
              "      <td>17</td>\n",
              "      <td>1</td>\n",
              "      <td>1380</td>\n",
              "      <td>Nyandarua</td>\n",
              "      <td>Physical Infrastructure, Housing</td>\n",
              "      <td>CENTRAL</td>\n",
              "    </tr>\n",
              "    <tr>\n",
              "      <th>1</th>\n",
              "      <td>NYANDARUA SOUTH</td>\n",
              "      <td>Urban</td>\n",
              "      <td>5345</td>\n",
              "      <td>5098</td>\n",
              "      <td>25</td>\n",
              "      <td>139</td>\n",
              "      <td>78</td>\n",
              "      <td>3</td>\n",
              "      <td>0</td>\n",
              "      <td>0</td>\n",
              "      <td>1</td>\n",
              "      <td>1</td>\n",
              "      <td>Nyandarua</td>\n",
              "      <td>Physical Infrastructure, Housing</td>\n",
              "      <td>CENTRAL</td>\n",
              "    </tr>\n",
              "    <tr>\n",
              "      <th>2</th>\n",
              "      <td>NYERI NORTH</td>\n",
              "      <td>Urban</td>\n",
              "      <td>14208</td>\n",
              "      <td>12827</td>\n",
              "      <td>161</td>\n",
              "      <td>740</td>\n",
              "      <td>367</td>\n",
              "      <td>69</td>\n",
              "      <td>11</td>\n",
              "      <td>29</td>\n",
              "      <td>2</td>\n",
              "      <td>2</td>\n",
              "      <td>Nyeri</td>\n",
              "      <td>Physical Infrastructure, Housing</td>\n",
              "      <td>CENTRAL</td>\n",
              "    </tr>\n",
              "    <tr>\n",
              "      <th>3</th>\n",
              "      <td>NYERI SOUTH</td>\n",
              "      <td>Urban</td>\n",
              "      <td>39927</td>\n",
              "      <td>36290</td>\n",
              "      <td>917</td>\n",
              "      <td>1325</td>\n",
              "      <td>1213</td>\n",
              "      <td>36</td>\n",
              "      <td>20</td>\n",
              "      <td>57</td>\n",
              "      <td>2</td>\n",
              "      <td>67</td>\n",
              "      <td>Nyeri</td>\n",
              "      <td>Physical Infrastructure, Housing</td>\n",
              "      <td>CENTRAL</td>\n",
              "    </tr>\n",
              "    <tr>\n",
              "      <th>4</th>\n",
              "      <td>KIRINYAGA</td>\n",
              "      <td>Urban</td>\n",
              "      <td>27461</td>\n",
              "      <td>25103</td>\n",
              "      <td>239</td>\n",
              "      <td>1090</td>\n",
              "      <td>960</td>\n",
              "      <td>11</td>\n",
              "      <td>3</td>\n",
              "      <td>9</td>\n",
              "      <td>4</td>\n",
              "      <td>42</td>\n",
              "      <td>Kirinyaga</td>\n",
              "      <td>Physical Infrastructure, Housing</td>\n",
              "      <td>CENTRAL</td>\n",
              "    </tr>\n",
              "    <tr>\n",
              "      <th>...</th>\n",
              "      <td>...</td>\n",
              "      <td>...</td>\n",
              "      <td>...</td>\n",
              "      <td>...</td>\n",
              "      <td>...</td>\n",
              "      <td>...</td>\n",
              "      <td>...</td>\n",
              "      <td>...</td>\n",
              "      <td>...</td>\n",
              "      <td>...</td>\n",
              "      <td>...</td>\n",
              "      <td>...</td>\n",
              "      <td>...</td>\n",
              "      <td>...</td>\n",
              "      <td>...</td>\n",
              "    </tr>\n",
              "    <tr>\n",
              "      <th>310</th>\n",
              "      <td>BUSIA</td>\n",
              "      <td>Rural</td>\n",
              "      <td>58208</td>\n",
              "      <td>28909</td>\n",
              "      <td>265</td>\n",
              "      <td>20</td>\n",
              "      <td>1253</td>\n",
              "      <td>27611</td>\n",
              "      <td>48</td>\n",
              "      <td>78</td>\n",
              "      <td>15</td>\n",
              "      <td>9</td>\n",
              "      <td>Busia</td>\n",
              "      <td>Physical Infrastructure, Housing</td>\n",
              "      <td>WESTERN</td>\n",
              "    </tr>\n",
              "    <tr>\n",
              "      <th>311</th>\n",
              "      <td>TESO NORTH</td>\n",
              "      <td>Rural</td>\n",
              "      <td>13490</td>\n",
              "      <td>3939</td>\n",
              "      <td>57</td>\n",
              "      <td>4</td>\n",
              "      <td>165</td>\n",
              "      <td>9317</td>\n",
              "      <td>5</td>\n",
              "      <td>1</td>\n",
              "      <td>2</td>\n",
              "      <td>0</td>\n",
              "      <td>Busia</td>\n",
              "      <td>Physical Infrastructure, Housing</td>\n",
              "      <td>WESTERN</td>\n",
              "    </tr>\n",
              "    <tr>\n",
              "      <th>312</th>\n",
              "      <td>SAMIA</td>\n",
              "      <td>Rural</td>\n",
              "      <td>19385</td>\n",
              "      <td>10214</td>\n",
              "      <td>139</td>\n",
              "      <td>10</td>\n",
              "      <td>390</td>\n",
              "      <td>8561</td>\n",
              "      <td>43</td>\n",
              "      <td>4</td>\n",
              "      <td>8</td>\n",
              "      <td>16</td>\n",
              "      <td>Busia</td>\n",
              "      <td>Physical Infrastructure, Housing</td>\n",
              "      <td>WESTERN</td>\n",
              "    </tr>\n",
              "    <tr>\n",
              "      <th>313</th>\n",
              "      <td>BUNYALA</td>\n",
              "      <td>Rural</td>\n",
              "      <td>13535</td>\n",
              "      <td>7880</td>\n",
              "      <td>67</td>\n",
              "      <td>5</td>\n",
              "      <td>221</td>\n",
              "      <td>5211</td>\n",
              "      <td>20</td>\n",
              "      <td>9</td>\n",
              "      <td>2</td>\n",
              "      <td>120</td>\n",
              "      <td>Busia</td>\n",
              "      <td>Physical Infrastructure, Housing</td>\n",
              "      <td>WESTERN</td>\n",
              "    </tr>\n",
              "    <tr>\n",
              "      <th>314</th>\n",
              "      <td>TESO SOUTH</td>\n",
              "      <td>Rural</td>\n",
              "      <td>21344</td>\n",
              "      <td>5429</td>\n",
              "      <td>77</td>\n",
              "      <td>6</td>\n",
              "      <td>141</td>\n",
              "      <td>15664</td>\n",
              "      <td>16</td>\n",
              "      <td>4</td>\n",
              "      <td>3</td>\n",
              "      <td>4</td>\n",
              "      <td>Busia</td>\n",
              "      <td>Physical Infrastructure, Housing</td>\n",
              "      <td>WESTERN</td>\n",
              "    </tr>\n",
              "  </tbody>\n",
              "</table>\n",
              "<p>315 rows × 15 columns</p>\n",
              "</div>"
            ],
            "text/plain": [
              "            District rural/urban  ...                              MTEF  Province\n",
              "0    NYANDARUA NORTH       Urban  ...  Physical Infrastructure, Housing   CENTRAL\n",
              "1    NYANDARUA SOUTH       Urban  ...  Physical Infrastructure, Housing   CENTRAL\n",
              "2        NYERI NORTH       Urban  ...  Physical Infrastructure, Housing   CENTRAL\n",
              "3        NYERI SOUTH       Urban  ...  Physical Infrastructure, Housing   CENTRAL\n",
              "4          KIRINYAGA       Urban  ...  Physical Infrastructure, Housing   CENTRAL\n",
              "..               ...         ...  ...                               ...       ...\n",
              "310            BUSIA       Rural  ...  Physical Infrastructure, Housing   WESTERN\n",
              "311       TESO NORTH       Rural  ...  Physical Infrastructure, Housing   WESTERN\n",
              "312            SAMIA       Rural  ...  Physical Infrastructure, Housing   WESTERN\n",
              "313          BUNYALA       Rural  ...  Physical Infrastructure, Housing   WESTERN\n",
              "314       TESO SOUTH       Rural  ...  Physical Infrastructure, Housing   WESTERN\n",
              "\n",
              "[315 rows x 15 columns]"
            ]
          },
          "metadata": {
            "tags": []
          },
          "execution_count": 21
        }
      ]
    },
    {
      "cell_type": "code",
      "metadata": {
        "id": "3Hegrubg0Zns"
      },
      "source": [
        "# Procedure 3:\n",
        "# Data Cleaning Action:\n",
        "# Explanation:\n",
        "#\n",
        "OUR CODE GOES HERE"
      ],
      "execution_count": null,
      "outputs": []
    },
    {
      "cell_type": "markdown",
      "metadata": {
        "id": "ogvHnWWk0URF"
      },
      "source": [
        "### 1.42) Accuracy <font color=\"green\">Challenges</font>"
      ]
    },
    {
      "cell_type": "code",
      "metadata": {
        "id": "fGR0p3580fCX"
      },
      "source": [
        "# Procedure 1:\n",
        "# Data Cleaning Action:\n",
        "# Explanation:\n",
        "#\n",
        "OUR CODE GOES HERE"
      ],
      "execution_count": null,
      "outputs": []
    },
    {
      "cell_type": "code",
      "metadata": {
        "id": "dPvSUWLY0gNF"
      },
      "source": [
        "# Procedure 2:\n",
        "# Data Cleaning Action:\n",
        "# Explanation:\n",
        "#\n",
        "OUR CODE GOES HERE"
      ],
      "execution_count": null,
      "outputs": []
    },
    {
      "cell_type": "markdown",
      "metadata": {
        "id": "4_l-hjNT0ljY"
      },
      "source": [
        "### 1.43) Completeness <font color=\"green\">Challenges</font>"
      ]
    },
    {
      "cell_type": "code",
      "metadata": {
        "id": "r0QLHD0P0nN3",
        "colab": {
          "base_uri": "https://localhost:8080/"
        },
        "outputId": "06185ed0-30f5-46f1-bc65-3fa298f02864"
      },
      "source": [
        "# Procedure 1:\n",
        "# Data Cleaning Action:\n",
        "# Explanation:\n",
        "#\n",
        "df.isnull().sum()"
      ],
      "execution_count": null,
      "outputs": [
        {
          "output_type": "execute_result",
          "data": {
            "text/plain": [
              "District                     0\n",
              "rural/urban                  0\n",
              "Households                   0\n",
              "No_Corrugated_Iron_Sheets    0\n",
              "No_Tiles                     0\n",
              "No_Concrete                  0\n",
              "No_Asbestos_Sheets           0\n",
              "No_Grass                     0\n",
              "No_Makuti                    0\n",
              "No_Tin                       0\n",
              "No_Mud/Dung                  0\n",
              "No_Other                     0\n",
              "County                       0\n",
              "MTEF                         0\n",
              "Province                     0\n",
              "dtype: int64"
            ]
          },
          "metadata": {
            "tags": []
          },
          "execution_count": 22
        }
      ]
    },
    {
      "cell_type": "code",
      "metadata": {
        "id": "GchjhobG0nu8"
      },
      "source": [
        "# Procedure 2:\n",
        "# Data Cleaning Action:\n",
        "# Explanation:\n",
        "#\n",
        "OUR CODE GOES HERE"
      ],
      "execution_count": null,
      "outputs": []
    },
    {
      "cell_type": "markdown",
      "metadata": {
        "id": "Wg_HInjk0rJG"
      },
      "source": [
        "### 1.44) Consitency: <font color=\"green\">Challenges</font>"
      ]
    },
    {
      "cell_type": "code",
      "metadata": {
        "id": "_xg4tFiZ0sTN",
        "colab": {
          "base_uri": "https://localhost:8080/"
        },
        "outputId": "29bdef08-b083-4947-cb23-13e25181c55a"
      },
      "source": [
        "# Procedure 1:\n",
        "# Data Cleaning Action:\n",
        "# Explanation:\n",
        "#\n",
        "df.duplicated().sum()"
      ],
      "execution_count": null,
      "outputs": [
        {
          "output_type": "execute_result",
          "data": {
            "text/plain": [
              "0"
            ]
          },
          "metadata": {
            "tags": []
          },
          "execution_count": 23
        }
      ]
    },
    {
      "cell_type": "markdown",
      "metadata": {
        "id": "po-2IDPd0vdL"
      },
      "source": [
        "### 1.45) Uniformity: <font color=\"green\">Challenges<font/>"
      ]
    },
    {
      "cell_type": "code",
      "metadata": {
        "id": "oRw7Ow5-0wZM",
        "colab": {
          "base_uri": "https://localhost:8080/"
        },
        "outputId": "a11ad27d-4add-49a7-bab5-f9b94b87c468"
      },
      "source": [
        "# Procedure 1:\n",
        "# Data Cleaning Action:\n",
        "# Explanation:\n",
        "#\n",
        "df.info()"
      ],
      "execution_count": null,
      "outputs": [
        {
          "output_type": "stream",
          "text": [
            "<class 'pandas.core.frame.DataFrame'>\n",
            "RangeIndex: 315 entries, 0 to 314\n",
            "Data columns (total 15 columns):\n",
            " #   Column                     Non-Null Count  Dtype \n",
            "---  ------                     --------------  ----- \n",
            " 0   District                   315 non-null    object\n",
            " 1   rural/urban                315 non-null    object\n",
            " 2   Households                 315 non-null    int64 \n",
            " 3   No_Corrugated_Iron_Sheets  315 non-null    int64 \n",
            " 4   No_Tiles                   315 non-null    int64 \n",
            " 5   No_Concrete                315 non-null    int64 \n",
            " 6   No_Asbestos_Sheets         315 non-null    int64 \n",
            " 7   No_Grass                   315 non-null    int64 \n",
            " 8   No_Makuti                  315 non-null    int64 \n",
            " 9   No_Tin                     315 non-null    int64 \n",
            " 10  No_Mud/Dung                315 non-null    int64 \n",
            " 11  No_Other                   315 non-null    int64 \n",
            " 12  County                     315 non-null    object\n",
            " 13  MTEF                       315 non-null    object\n",
            " 14  Province                   315 non-null    object\n",
            "dtypes: int64(10), object(5)\n",
            "memory usage: 37.0+ KB\n"
          ],
          "name": "stdout"
        }
      ]
    },
    {
      "cell_type": "code",
      "metadata": {
        "id": "-3HTVQkC0xxj"
      },
      "source": [
        "# Procedure 2:\n",
        "# Data Cleaning Action:\n",
        "# Explanation:\n",
        "#\n",
        "OUR CODE GOES HERE"
      ],
      "execution_count": null,
      "outputs": []
    },
    {
      "cell_type": "markdown",
      "metadata": {
        "id": "dr1eyGZzt83Z"
      },
      "source": [
        "### Exporting the Cleaned Dataset"
      ]
    },
    {
      "cell_type": "code",
      "metadata": {
        "id": "igd8ULk7t95C"
      },
      "source": [
        "# Let's export our dataframe into a csv file as shown \n",
        "# in the example given in the following line;\n",
        "# daframe.to_csv('example.csv')\n",
        "# In the above case daframe is the dataframe which would like to export.\n",
        "# we use the to_csv function to create a csv file with the name example \n",
        "# and export it\n",
        "#\n",
        "df.to_csv('cleaned.csv')"
      ],
      "execution_count": null,
      "outputs": []
    },
    {
      "cell_type": "markdown",
      "metadata": {
        "id": "NicC8P9LMjvO"
      },
      "source": [
        "## 1.5 Answering Questions"
      ]
    },
    {
      "cell_type": "markdown",
      "metadata": {
        "id": "8izhaW7UNYGJ"
      },
      "source": [
        "Let's answer the following questions with our dataset"
      ]
    },
    {
      "cell_type": "code",
      "metadata": {
        "id": "tTOgnXvuMxcn",
        "colab": {
          "base_uri": "https://localhost:8080/"
        },
        "outputId": "d0824cd7-44bf-4189-d812-5ef4e569fc95"
      },
      "source": [
        "# Challenge 1\n",
        "# Find out the most popular type of household material for urban regions.\n",
        "# \n",
        "df1 = df.groupby(df['rural/urban']).sum()\n",
        "df1.iloc[1].head(2)"
      ],
      "execution_count": null,
      "outputs": [
        {
          "output_type": "execute_result",
          "data": {
            "text/plain": [
              "Households                   3385308\n",
              "No_Corrugated_Iron_Sheets    2669341\n",
              "Name: Urban, dtype: int64"
            ]
          },
          "metadata": {
            "tags": []
          },
          "execution_count": 57
        }
      ]
    },
    {
      "cell_type": "code",
      "metadata": {
        "id": "BNegesaWNvQs",
        "colab": {
          "base_uri": "https://localhost:8080/"
        },
        "outputId": "cf1e4dac-58a0-4fd1-ef2f-1e01ffaa6701"
      },
      "source": [
        "# Challenge 2\n",
        "# Find out the least popular type of household material for urban regions.\n",
        "#\n",
        "df1 = df.groupby(df['rural/urban']).sum()\n",
        "df1.iloc[1].tail(1)"
      ],
      "execution_count": null,
      "outputs": [
        {
          "output_type": "execute_result",
          "data": {
            "text/plain": [
              "No_Other    8807\n",
              "Name: Urban, dtype: int64"
            ]
          },
          "metadata": {
            "tags": []
          },
          "execution_count": 60
        }
      ]
    },
    {
      "cell_type": "code",
      "metadata": {
        "id": "7tilTerhNyiP",
        "colab": {
          "base_uri": "https://localhost:8080/"
        },
        "outputId": "9488a32d-b973-45ca-c723-06bc8e67f69f"
      },
      "source": [
        "# Challenge 3\n",
        "# Find out the most popular type of households material in the urban regions of Nairobi.\n",
        "# \n",
        "df.groupby(['County', 'rural/urban']).sum().loc['Nairobi'].loc['Urban'].sort_values(ascending = False).head(2)"
      ],
      "execution_count": null,
      "outputs": [
        {
          "output_type": "execute_result",
          "data": {
            "text/plain": [
              "Households                   983115\n",
              "No_Corrugated_Iron_Sheets    641697\n",
              "Name: Urban, dtype: int64"
            ]
          },
          "metadata": {
            "tags": []
          },
          "execution_count": 84
        }
      ]
    },
    {
      "cell_type": "code",
      "metadata": {
        "id": "rhXeHa6IOBsq",
        "colab": {
          "base_uri": "https://localhost:8080/"
        },
        "outputId": "956003d5-6c2a-4607-e1aa-8728afb9f7e3"
      },
      "source": [
        "# Challenge 4\n",
        "# Find out the least popular type of households material in rural regions of Nairobi.\n",
        "# \n",
        "df.groupby(['County', 'rural/urban']).sum().loc['Nairobi'].loc['Urban'].sort_values(ascending = True).head(2)"
      ],
      "execution_count": null,
      "outputs": [
        {
          "output_type": "execute_result",
          "data": {
            "text/plain": [
              "No_Grass       185\n",
              "No_Mud/Dung    283\n",
              "Name: Urban, dtype: int64"
            ]
          },
          "metadata": {
            "tags": []
          },
          "execution_count": 85
        }
      ]
    },
    {
      "cell_type": "code",
      "metadata": {
        "id": "wddDP6yCOD_F",
        "colab": {
          "base_uri": "https://localhost:8080/"
        },
        "outputId": "3a1a5f0c-161a-444a-aaae-77392b2cf5ee"
      },
      "source": [
        "# Challenge 5\n",
        "# Find out the average no. of tiling households.\n",
        "# \n",
        "df['No_Tiles'].mean()"
      ],
      "execution_count": null,
      "outputs": [
        {
          "output_type": "execute_result",
          "data": {
            "text/plain": [
              "615.2126984126984"
            ]
          },
          "metadata": {
            "tags": []
          },
          "execution_count": 87
        }
      ]
    },
    {
      "cell_type": "code",
      "metadata": {
        "id": "OemJ0HDYOHCq",
        "colab": {
          "base_uri": "https://localhost:8080/"
        },
        "outputId": "c70dff01-538d-460f-e435-e8045fe808af"
      },
      "source": [
        "# Challenge 6\n",
        "# Which county has the highest no. of grass households?\n",
        "# \n",
        "df.groupby('County')['No_Grass'].sum().sort_values(ascending = False).head(1)"
      ],
      "execution_count": null,
      "outputs": [
        {
          "output_type": "execute_result",
          "data": {
            "text/plain": [
              "County\n",
              "Mandera    77307\n",
              "Name: No_Grass, dtype: int64"
            ]
          },
          "metadata": {
            "tags": []
          },
          "execution_count": 92
        }
      ]
    },
    {
      "cell_type": "code",
      "metadata": {
        "id": "CIxC5arSOLak",
        "colab": {
          "base_uri": "https://localhost:8080/"
        },
        "outputId": "41356521-d3ec-4092-b2de-171b8bde0256"
      },
      "source": [
        "# Challenge 7\n",
        "# Which top 5 counties have the highest no of households made of iron sheets ?\n",
        "# \n",
        "df.groupby('County')['No_Corrugated_Iron_Sheets'].sum().sort_values(ascending = False).head(5)"
      ],
      "execution_count": null,
      "outputs": [
        {
          "output_type": "execute_result",
          "data": {
            "text/plain": [
              "County\n",
              "Nairobi     641697\n",
              "Kiambu      423968\n",
              "Nakuru      354675\n",
              "Meru        352331\n",
              "Kakamega    272421\n",
              "Name: No_Corrugated_Iron_Sheets, dtype: int64"
            ]
          },
          "metadata": {
            "tags": []
          },
          "execution_count": 94
        }
      ]
    },
    {
      "cell_type": "code",
      "metadata": {
        "id": "gSjjnw56OP8O",
        "colab": {
          "base_uri": "https://localhost:8080/"
        },
        "outputId": "4f762506-e956-4503-f739-8b99a415fe6b"
      },
      "source": [
        "# Challenge 8\n",
        "# What is the average no. of households in Kenya?\n",
        "# \n",
        "df['Households'].mean()"
      ],
      "execution_count": null,
      "outputs": [
        {
          "output_type": "execute_result",
          "data": {
            "text/plain": [
              "27739.990476190476"
            ]
          },
          "metadata": {
            "tags": []
          },
          "execution_count": 95
        }
      ]
    },
    {
      "cell_type": "code",
      "metadata": {
        "id": "UZLYqF7UOTtu",
        "colab": {
          "base_uri": "https://localhost:8080/"
        },
        "outputId": "60b887b3-42a0-450b-d22c-69c65da45015"
      },
      "source": [
        "# Challenge 9\n",
        "# Which county has the most no. of households made of dung?\n",
        "# \n",
        "df.groupby('County')['No_Mud/Dung'].sum().sort_values(ascending = False).head(1)"
      ],
      "execution_count": null,
      "outputs": [
        {
          "output_type": "execute_result",
          "data": {
            "text/plain": [
              "County\n",
              "Narok    18677\n",
              "Name: No_Mud/Dung, dtype: int64"
            ]
          },
          "metadata": {
            "tags": []
          },
          "execution_count": 99
        }
      ]
    },
    {
      "cell_type": "code",
      "metadata": {
        "id": "1qk8wF3MOXDu",
        "colab": {
          "base_uri": "https://localhost:8080/"
        },
        "outputId": "b5836b50-a6f4-4b71-db9b-5ce95b1bb6b0"
      },
      "source": [
        "# Challenge 10\n",
        "# In ascending order, which top 3 counties have the highest no. of households with makuti?\n",
        "# \n",
        "makuti_counties = df.groupby('County')['No_Makuti'].sum().sort_values(ascending = False).head(3)\n",
        "makuti_counties.sort_values(ascending = True)"
      ],
      "execution_count": null,
      "outputs": [
        {
          "output_type": "execute_result",
          "data": {
            "text/plain": [
              "County\n",
              "Turkana    43605\n",
              "Kwale      60569\n",
              "Kilifi     88633\n",
              "Name: No_Makuti, dtype: int64"
            ]
          },
          "metadata": {
            "tags": []
          },
          "execution_count": 108
        }
      ]
    },
    {
      "cell_type": "code",
      "metadata": {
        "id": "8xkStdjdXS3w",
        "colab": {
          "base_uri": "https://localhost:8080/"
        },
        "outputId": "efc0661f-27a7-4179-a6df-569b98652f8e"
      },
      "source": [
        "# Challenge 11\n",
        "# What is the no. of Makuti households in urban regions?\n",
        "#\n",
        "df.groupby('rural/urban')['No_Makuti'].sum().loc['Urban']\n",
        "\n",
        "#or\n",
        "#df[df['rural/urban']==\"Urban\"]['No_Makuti'].sum()"
      ],
      "execution_count": null,
      "outputs": [
        {
          "output_type": "execute_result",
          "data": {
            "text/plain": [
              "52900"
            ]
          },
          "metadata": {
            "tags": []
          },
          "execution_count": 106
        }
      ]
    },
    {
      "cell_type": "code",
      "metadata": {
        "id": "rgVsXH_5XVCh",
        "colab": {
          "base_uri": "https://localhost:8080/"
        },
        "outputId": "aeefa389-2d74-4508-fa65-861a15edd475"
      },
      "source": [
        "# Challenge 12\n",
        "# What is the no. of Makuti households in the rural regions of Kisumu county?\n",
        "#\n",
        "df.groupby(['rural/urban', 'County'])['No_Makuti'].sum().loc['Rural'].loc['Kisumu']\n",
        "\n",
        "#or\n",
        "#df[(df['rural/urban']==\"Rural\") & (df['County']==\"Kisumu\")]['No_Makuti'].sum()"
      ],
      "execution_count": null,
      "outputs": [
        {
          "output_type": "execute_result",
          "data": {
            "text/plain": [
              "167"
            ]
          },
          "metadata": {
            "tags": []
          },
          "execution_count": 112
        }
      ]
    },
    {
      "cell_type": "code",
      "metadata": {
        "id": "XvvFWhuDXXeP",
        "colab": {
          "base_uri": "https://localhost:8080/"
        },
        "outputId": "f046118e-428c-4a68-913e-3cbba23403c1"
      },
      "source": [
        "# Challenge 13\n",
        "# What percentage of households in Kenya are concrete?\n",
        "#\n",
        "\n",
        "percentage = (df['No_Corrugated_Iron_Sheets'].sum()) / (df['Households'].sum()) * 100\n",
        "percentage"
      ],
      "execution_count": null,
      "outputs": [
        {
          "output_type": "execute_result",
          "data": {
            "text/plain": [
              "73.22672201968003"
            ]
          },
          "metadata": {
            "tags": []
          },
          "execution_count": 116
        }
      ]
    },
    {
      "cell_type": "code",
      "metadata": {
        "id": "q1iq02FuXc2R",
        "colab": {
          "base_uri": "https://localhost:8080/",
          "height": 248
        },
        "outputId": "202f1208-d982-436b-d31e-4723f1489c89"
      },
      "source": [
        "# Challenge 14\n",
        "# Which top 3 districts have the highest no. of grass and makuti households?\n",
        "#\n",
        "dfgm = df[['District', 'No_Grass', 'No_Makuti']]\n",
        "# (df['No_Grass'] + df['No_Makuti'])\n",
        "dfgm['Total'] = dfgm['No_Grass'] + dfgm['No_Makuti']\n",
        "dfgm[['District','Total']].sort_values(by='Total', ascending= False).head(3)"
      ],
      "execution_count": null,
      "outputs": [
        {
          "output_type": "stream",
          "text": [
            "/usr/local/lib/python3.7/dist-packages/ipykernel_launcher.py:6: SettingWithCopyWarning: \n",
            "A value is trying to be set on a copy of a slice from a DataFrame.\n",
            "Try using .loc[row_indexer,col_indexer] = value instead\n",
            "\n",
            "See the caveats in the documentation: https://pandas.pydata.org/pandas-docs/stable/user_guide/indexing.html#returning-a-view-versus-a-copy\n",
            "  \n"
          ],
          "name": "stderr"
        },
        {
          "output_type": "execute_result",
          "data": {
            "text/html": [
              "<div>\n",
              "<style scoped>\n",
              "    .dataframe tbody tr th:only-of-type {\n",
              "        vertical-align: middle;\n",
              "    }\n",
              "\n",
              "    .dataframe tbody tr th {\n",
              "        vertical-align: top;\n",
              "    }\n",
              "\n",
              "    .dataframe thead th {\n",
              "        text-align: right;\n",
              "    }\n",
              "</style>\n",
              "<table border=\"1\" class=\"dataframe\">\n",
              "  <thead>\n",
              "    <tr style=\"text-align: right;\">\n",
              "      <th></th>\n",
              "      <th>District</th>\n",
              "      <th>Total</th>\n",
              "    </tr>\n",
              "  </thead>\n",
              "  <tbody>\n",
              "    <tr>\n",
              "      <th>166</th>\n",
              "      <td>SIAYA</td>\n",
              "      <td>48094</td>\n",
              "    </tr>\n",
              "    <tr>\n",
              "      <th>52</th>\n",
              "      <td>KILIFI</td>\n",
              "      <td>41017</td>\n",
              "    </tr>\n",
              "    <tr>\n",
              "      <th>142</th>\n",
              "      <td>MANDERA CENTRAL</td>\n",
              "      <td>39346</td>\n",
              "    </tr>\n",
              "  </tbody>\n",
              "</table>\n",
              "</div>"
            ],
            "text/plain": [
              "            District  Total\n",
              "166            SIAYA  48094\n",
              "52            KILIFI  41017\n",
              "142  MANDERA CENTRAL  39346"
            ]
          },
          "metadata": {
            "tags": []
          },
          "execution_count": 140
        }
      ]
    },
    {
      "cell_type": "code",
      "metadata": {
        "id": "drAWpxBZXhcF",
        "colab": {
          "base_uri": "https://localhost:8080/",
          "height": 300
        },
        "outputId": "7aed673d-f139-467f-fc5c-85cb45669102"
      },
      "source": [
        "# Challenge 15 \n",
        "# What is the households distribution of iron sheets, mud/dung, tin, \n",
        "# makuti, grass, sheets, concrete, tiles for Baringa County?\n",
        "# \n",
        "df[df[\"County\"]==\"Baringo\"][['District', 'No_Corrugated_Iron_Sheets','No_Tiles','No_Concrete', 'No_Makuti', 'No_Grass','No_Asbestos_Sheets','No_Mud/Dung']]"
      ],
      "execution_count": null,
      "outputs": [
        {
          "output_type": "execute_result",
          "data": {
            "text/html": [
              "<div>\n",
              "<style scoped>\n",
              "    .dataframe tbody tr th:only-of-type {\n",
              "        vertical-align: middle;\n",
              "    }\n",
              "\n",
              "    .dataframe tbody tr th {\n",
              "        vertical-align: top;\n",
              "    }\n",
              "\n",
              "    .dataframe thead th {\n",
              "        text-align: right;\n",
              "    }\n",
              "</style>\n",
              "<table border=\"1\" class=\"dataframe\">\n",
              "  <thead>\n",
              "    <tr style=\"text-align: right;\">\n",
              "      <th></th>\n",
              "      <th>District</th>\n",
              "      <th>No_Corrugated_Iron_Sheets</th>\n",
              "      <th>No_Tiles</th>\n",
              "      <th>No_Concrete</th>\n",
              "      <th>No_Makuti</th>\n",
              "      <th>No_Grass</th>\n",
              "      <th>No_Asbestos_Sheets</th>\n",
              "      <th>No_Mud/Dung</th>\n",
              "    </tr>\n",
              "  </thead>\n",
              "  <tbody>\n",
              "    <tr>\n",
              "      <th>199</th>\n",
              "      <td>BARINGO</td>\n",
              "      <td>6685</td>\n",
              "      <td>199</td>\n",
              "      <td>24</td>\n",
              "      <td>4</td>\n",
              "      <td>318</td>\n",
              "      <td>385</td>\n",
              "      <td>2</td>\n",
              "    </tr>\n",
              "    <tr>\n",
              "      <th>200</th>\n",
              "      <td>BARINGO NORTH</td>\n",
              "      <td>0</td>\n",
              "      <td>0</td>\n",
              "      <td>0</td>\n",
              "      <td>0</td>\n",
              "      <td>0</td>\n",
              "      <td>0</td>\n",
              "      <td>0</td>\n",
              "    </tr>\n",
              "    <tr>\n",
              "      <th>201</th>\n",
              "      <td>EAST POKOT</td>\n",
              "      <td>0</td>\n",
              "      <td>0</td>\n",
              "      <td>0</td>\n",
              "      <td>0</td>\n",
              "      <td>0</td>\n",
              "      <td>0</td>\n",
              "      <td>0</td>\n",
              "    </tr>\n",
              "    <tr>\n",
              "      <th>202</th>\n",
              "      <td>KOIBATEK</td>\n",
              "      <td>7357</td>\n",
              "      <td>159</td>\n",
              "      <td>61</td>\n",
              "      <td>5</td>\n",
              "      <td>50</td>\n",
              "      <td>343</td>\n",
              "      <td>10</td>\n",
              "    </tr>\n",
              "    <tr>\n",
              "      <th>243</th>\n",
              "      <td>BARINGO</td>\n",
              "      <td>18189</td>\n",
              "      <td>247</td>\n",
              "      <td>16</td>\n",
              "      <td>37</td>\n",
              "      <td>8462</td>\n",
              "      <td>268</td>\n",
              "      <td>14</td>\n",
              "    </tr>\n",
              "    <tr>\n",
              "      <th>244</th>\n",
              "      <td>BARINGO NORTH</td>\n",
              "      <td>10500</td>\n",
              "      <td>179</td>\n",
              "      <td>9</td>\n",
              "      <td>23</td>\n",
              "      <td>8716</td>\n",
              "      <td>254</td>\n",
              "      <td>11</td>\n",
              "    </tr>\n",
              "    <tr>\n",
              "      <th>245</th>\n",
              "      <td>EAST POKOT</td>\n",
              "      <td>1632</td>\n",
              "      <td>88</td>\n",
              "      <td>8</td>\n",
              "      <td>99</td>\n",
              "      <td>19345</td>\n",
              "      <td>43</td>\n",
              "      <td>23</td>\n",
              "    </tr>\n",
              "    <tr>\n",
              "      <th>246</th>\n",
              "      <td>KOIBATEK</td>\n",
              "      <td>19681</td>\n",
              "      <td>237</td>\n",
              "      <td>9</td>\n",
              "      <td>55</td>\n",
              "      <td>5969</td>\n",
              "      <td>304</td>\n",
              "      <td>8</td>\n",
              "    </tr>\n",
              "  </tbody>\n",
              "</table>\n",
              "</div>"
            ],
            "text/plain": [
              "          District  No_Corrugated_Iron_Sheets  ...  No_Asbestos_Sheets  No_Mud/Dung\n",
              "199        BARINGO                       6685  ...                 385            2\n",
              "200  BARINGO NORTH                          0  ...                   0            0\n",
              "201     EAST POKOT                          0  ...                   0            0\n",
              "202       KOIBATEK                       7357  ...                 343           10\n",
              "243        BARINGO                      18189  ...                 268           14\n",
              "244  BARINGO NORTH                      10500  ...                 254           11\n",
              "245     EAST POKOT                       1632  ...                  43           23\n",
              "246       KOIBATEK                      19681  ...                 304            8\n",
              "\n",
              "[8 rows x 8 columns]"
            ]
          },
          "metadata": {
            "tags": []
          },
          "execution_count": 156
        }
      ]
    },
    {
      "cell_type": "code",
      "metadata": {
        "id": "1SWhMiYjsRHE"
      },
      "source": [
        ""
      ],
      "execution_count": null,
      "outputs": []
    }
  ]
}